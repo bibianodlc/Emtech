{
 "cells": [
  {
   "cell_type": "markdown",
   "id": "cc8e4cc8",
   "metadata": {},
   "source": [
    "# SYNERGY LOGISTICS"
   ]
  },
  {
   "cell_type": "markdown",
   "id": "c5e69548",
   "metadata": {},
   "source": [
    "## DESCRIPCIÓN DEL CASO\n",
    "Synergy Logistics es una empresa dedicada a la intermediación de servicios de \n",
    "importación y exportación de diferentes productos. Actualmente la empresa \n",
    "cuenta con una base de datos que refleja las rutas más importantes que opera \n",
    "desde el año 2015, con su respectivo origen y destino, año, producto, modo de \n",
    "transporte y valor total. Su propósito, es que a partir de estos datos se genere un \n",
    "análisis que sirva de la base para la estructuración de su estrategia operativa.\n"
   ]
  },
  {
   "cell_type": "markdown",
   "id": "ded0fd0b",
   "metadata": {},
   "source": [
    "## CONSIGNA\n",
    "La Dirección de Synergy Logistics ha solicitado al equipo operativo, realizar una \n",
    "propuesta que permita enfocar las prioridades de la estrategia operativa 2021; para \n",
    "ello, se plantea analizar la viabilidad de 3 opciones de enfoque: rutas de importación \n",
    "y exportación, medio de transporte utilizado y valor total de importaciones y \n",
    "exportaciones."
   ]
  },
  {
   "cell_type": "markdown",
   "id": "42479b4b",
   "metadata": {},
   "source": [
    "#### Para comenzar importaremos las librerías que utilizaremos para el análisis de los datos que nos llegan"
   ]
  },
  {
   "cell_type": "code",
   "execution_count": 2,
   "id": "740e52d3",
   "metadata": {},
   "outputs": [],
   "source": [
    "import pandas as pd \n",
    "import numpy as np"
   ]
  },
  {
   "cell_type": "markdown",
   "id": "9ef00355",
   "metadata": {},
   "source": [
    "#### Posteriormente importaremos los datos con los que vamos a trabajar"
   ]
  },
  {
   "cell_type": "code",
   "execution_count": 107,
   "id": "eff34857",
   "metadata": {},
   "outputs": [],
   "source": [
    "database = pd.read_csv(\"synergy_logistics_database.csv\", index_col = 0, parse_dates=[5])"
   ]
  },
  {
   "cell_type": "markdown",
   "id": "ab8a0c1c",
   "metadata": {},
   "source": [
    "### Opción 1) Rutas de importación y exportación"
   ]
  },
  {
   "cell_type": "markdown",
   "id": "12bb7f7f",
   "metadata": {},
   "source": [
    "Análisis de exportaciones basados en las veces que se realizó cada ruta"
   ]
  },
  {
   "cell_type": "code",
   "execution_count": 108,
   "id": "89ab4e68",
   "metadata": {},
   "outputs": [],
   "source": [
    "exportaciones = database[database[\"direction\"] == \"Exports\"]\n",
    "exportaciones = exportaciones.groupby([\"origin\", \"destination\", \"transport_mode\"])\n",
    "top_exp = exportaciones.count()[\"total_value\"].sort_values(ascending=False).head(10)\n",
    "top_exp = pd.DataFrame(top_exp).reset_index().rename(columns={\"origin\":\"Origen\", \"destination\":\"Destino\", \"transport_mode\":\"Modo de Transporte\", \"total_value\":\"# movimientos\"})"
   ]
  },
  {
   "cell_type": "code",
   "execution_count": 290,
   "id": "f047106d",
   "metadata": {},
   "outputs": [
    {
     "data": {
      "text/html": [
       "<div>\n",
       "<style scoped>\n",
       "    .dataframe tbody tr th:only-of-type {\n",
       "        vertical-align: middle;\n",
       "    }\n",
       "\n",
       "    .dataframe tbody tr th {\n",
       "        vertical-align: top;\n",
       "    }\n",
       "\n",
       "    .dataframe thead th {\n",
       "        text-align: right;\n",
       "    }\n",
       "</style>\n",
       "<table border=\"1\" class=\"dataframe\">\n",
       "  <thead>\n",
       "    <tr style=\"text-align: right;\">\n",
       "      <th></th>\n",
       "      <th>Origen</th>\n",
       "      <th>Destino</th>\n",
       "      <th>Modo de Transporte</th>\n",
       "      <th># movimientos</th>\n",
       "    </tr>\n",
       "  </thead>\n",
       "  <tbody>\n",
       "    <tr>\n",
       "      <th>0</th>\n",
       "      <td>South Korea</td>\n",
       "      <td>Vietnam</td>\n",
       "      <td>Sea</td>\n",
       "      <td>497</td>\n",
       "    </tr>\n",
       "    <tr>\n",
       "      <th>1</th>\n",
       "      <td>USA</td>\n",
       "      <td>Netherlands</td>\n",
       "      <td>Sea</td>\n",
       "      <td>436</td>\n",
       "    </tr>\n",
       "    <tr>\n",
       "      <th>2</th>\n",
       "      <td>Netherlands</td>\n",
       "      <td>Belgium</td>\n",
       "      <td>Road</td>\n",
       "      <td>374</td>\n",
       "    </tr>\n",
       "    <tr>\n",
       "      <th>3</th>\n",
       "      <td>China</td>\n",
       "      <td>Mexico</td>\n",
       "      <td>Air</td>\n",
       "      <td>330</td>\n",
       "    </tr>\n",
       "    <tr>\n",
       "      <th>4</th>\n",
       "      <td>Japan</td>\n",
       "      <td>Brazil</td>\n",
       "      <td>Sea</td>\n",
       "      <td>306</td>\n",
       "    </tr>\n",
       "    <tr>\n",
       "      <th>5</th>\n",
       "      <td>Germany</td>\n",
       "      <td>France</td>\n",
       "      <td>Road</td>\n",
       "      <td>299</td>\n",
       "    </tr>\n",
       "    <tr>\n",
       "      <th>6</th>\n",
       "      <td>South Korea</td>\n",
       "      <td>Japan</td>\n",
       "      <td>Sea</td>\n",
       "      <td>279</td>\n",
       "    </tr>\n",
       "    <tr>\n",
       "      <th>7</th>\n",
       "      <td>Australia</td>\n",
       "      <td>Singapore</td>\n",
       "      <td>Sea</td>\n",
       "      <td>273</td>\n",
       "    </tr>\n",
       "    <tr>\n",
       "      <th>8</th>\n",
       "      <td>Canada</td>\n",
       "      <td>Mexico</td>\n",
       "      <td>Rail</td>\n",
       "      <td>261</td>\n",
       "    </tr>\n",
       "    <tr>\n",
       "      <th>9</th>\n",
       "      <td>China</td>\n",
       "      <td>Spain</td>\n",
       "      <td>Air</td>\n",
       "      <td>250</td>\n",
       "    </tr>\n",
       "  </tbody>\n",
       "</table>\n",
       "</div>"
      ],
      "text/plain": [
       "        Origen      Destino Modo de Transporte  # movimientos\n",
       "0  South Korea      Vietnam                Sea            497\n",
       "1          USA  Netherlands                Sea            436\n",
       "2  Netherlands      Belgium               Road            374\n",
       "3        China       Mexico                Air            330\n",
       "4        Japan       Brazil                Sea            306\n",
       "5      Germany       France               Road            299\n",
       "6  South Korea        Japan                Sea            279\n",
       "7    Australia    Singapore                Sea            273\n",
       "8       Canada       Mexico               Rail            261\n",
       "9        China        Spain                Air            250"
      ]
     },
     "execution_count": 290,
     "metadata": {},
     "output_type": "execute_result"
    }
   ],
   "source": [
    "top_exp"
   ]
  },
  {
   "cell_type": "markdown",
   "id": "4aa756df",
   "metadata": {},
   "source": [
    "Análisis de exportaciones basado en el monto ingresado por ruta"
   ]
  },
  {
   "cell_type": "code",
   "execution_count": 110,
   "id": "7a68f9f9",
   "metadata": {},
   "outputs": [],
   "source": [
    "sum_exp = exportaciones.sum()[\"total_value\"].sort_values(ascending=False).head(10)\n",
    "sum_exp = pd.DataFrame(sum_exp).reset_index().rename(columns={\"origin\":\"Origen\", \"destination\":\"Destino\", \"transport_mode\":\"Modo de Transporte\", \"total_value\":\"Ingresos ($)\"})"
   ]
  },
  {
   "cell_type": "code",
   "execution_count": 111,
   "id": "6a92c0c2",
   "metadata": {},
   "outputs": [
    {
     "data": {
      "text/html": [
       "<div>\n",
       "<style scoped>\n",
       "    .dataframe tbody tr th:only-of-type {\n",
       "        vertical-align: middle;\n",
       "    }\n",
       "\n",
       "    .dataframe tbody tr th {\n",
       "        vertical-align: top;\n",
       "    }\n",
       "\n",
       "    .dataframe thead th {\n",
       "        text-align: right;\n",
       "    }\n",
       "</style>\n",
       "<table border=\"1\" class=\"dataframe\">\n",
       "  <thead>\n",
       "    <tr style=\"text-align: right;\">\n",
       "      <th></th>\n",
       "      <th>Origen</th>\n",
       "      <th>Destino</th>\n",
       "      <th>Modo de Transporte</th>\n",
       "      <th>Ingresos ($)</th>\n",
       "    </tr>\n",
       "  </thead>\n",
       "  <tbody>\n",
       "    <tr>\n",
       "      <th>0</th>\n",
       "      <td>China</td>\n",
       "      <td>Mexico</td>\n",
       "      <td>Air</td>\n",
       "      <td>12250000000</td>\n",
       "    </tr>\n",
       "    <tr>\n",
       "      <th>1</th>\n",
       "      <td>Canada</td>\n",
       "      <td>Mexico</td>\n",
       "      <td>Rail</td>\n",
       "      <td>8450000000</td>\n",
       "    </tr>\n",
       "    <tr>\n",
       "      <th>2</th>\n",
       "      <td>South Korea</td>\n",
       "      <td>Vietnam</td>\n",
       "      <td>Sea</td>\n",
       "      <td>6877007000</td>\n",
       "    </tr>\n",
       "    <tr>\n",
       "      <th>3</th>\n",
       "      <td>France</td>\n",
       "      <td>United Kingdom</td>\n",
       "      <td>Sea</td>\n",
       "      <td>5427000000</td>\n",
       "    </tr>\n",
       "    <tr>\n",
       "      <th>4</th>\n",
       "      <td>South Korea</td>\n",
       "      <td>Japan</td>\n",
       "      <td>Sea</td>\n",
       "      <td>4594000000</td>\n",
       "    </tr>\n",
       "    <tr>\n",
       "      <th>5</th>\n",
       "      <td>China</td>\n",
       "      <td>South Korea</td>\n",
       "      <td>Rail</td>\n",
       "      <td>4535000000</td>\n",
       "    </tr>\n",
       "    <tr>\n",
       "      <th>6</th>\n",
       "      <td>USA</td>\n",
       "      <td>Mexico</td>\n",
       "      <td>Rail</td>\n",
       "      <td>4370000000</td>\n",
       "    </tr>\n",
       "    <tr>\n",
       "      <th>7</th>\n",
       "      <td>France</td>\n",
       "      <td>Belgium</td>\n",
       "      <td>Road</td>\n",
       "      <td>4257000000</td>\n",
       "    </tr>\n",
       "    <tr>\n",
       "      <th>8</th>\n",
       "      <td>China</td>\n",
       "      <td>Germany</td>\n",
       "      <td>Air</td>\n",
       "      <td>4090000000</td>\n",
       "    </tr>\n",
       "    <tr>\n",
       "      <th>9</th>\n",
       "      <td>China</td>\n",
       "      <td>USA</td>\n",
       "      <td>Air</td>\n",
       "      <td>3797000000</td>\n",
       "    </tr>\n",
       "  </tbody>\n",
       "</table>\n",
       "</div>"
      ],
      "text/plain": [
       "        Origen         Destino Modo de Transporte  Ingresos ($)\n",
       "0        China          Mexico                Air   12250000000\n",
       "1       Canada          Mexico               Rail    8450000000\n",
       "2  South Korea         Vietnam                Sea    6877007000\n",
       "3       France  United Kingdom                Sea    5427000000\n",
       "4  South Korea           Japan                Sea    4594000000\n",
       "5        China     South Korea               Rail    4535000000\n",
       "6          USA          Mexico               Rail    4370000000\n",
       "7       France         Belgium               Road    4257000000\n",
       "8        China         Germany                Air    4090000000\n",
       "9        China             USA                Air    3797000000"
      ]
     },
     "execution_count": 111,
     "metadata": {},
     "output_type": "execute_result"
    }
   ],
   "source": [
    "sum_exp"
   ]
  },
  {
   "cell_type": "markdown",
   "id": "0bad4647",
   "metadata": {},
   "source": [
    "Análisis de importaciones basadas en el número de veces que se realizó una ruta"
   ]
  },
  {
   "cell_type": "code",
   "execution_count": 496,
   "id": "2a5414eb",
   "metadata": {},
   "outputs": [],
   "source": [
    "importaciones = database[database[\"direction\"] == \"Imports\"]\n",
    "importaciones = importaciones.groupby([\"origin\", \"destination\", \"transport_mode\"])\n",
    "top_imp = importaciones.count()[\"total_value\"].sort_values(ascending=False).head(10)\n",
    "top_imp = pd.DataFrame(top_imp).reset_index().rename(columns={\"origin\":\"Origen\", \"destination\":\"Destino\", \"transport_mode\":\"Modo de Transporte\", \"total_value\":\"Flujo\"}) "
   ]
  },
  {
   "cell_type": "code",
   "execution_count": 504,
   "id": "bc074cca",
   "metadata": {},
   "outputs": [
    {
     "data": {
      "text/html": [
       "<div>\n",
       "<style scoped>\n",
       "    .dataframe tbody tr th:only-of-type {\n",
       "        vertical-align: middle;\n",
       "    }\n",
       "\n",
       "    .dataframe tbody tr th {\n",
       "        vertical-align: top;\n",
       "    }\n",
       "\n",
       "    .dataframe thead th {\n",
       "        text-align: right;\n",
       "    }\n",
       "</style>\n",
       "<table border=\"1\" class=\"dataframe\">\n",
       "  <thead>\n",
       "    <tr style=\"text-align: right;\">\n",
       "      <th></th>\n",
       "      <th>Origen</th>\n",
       "      <th>Destino</th>\n",
       "      <th>Modo de Transporte</th>\n",
       "      <th>Flujo</th>\n",
       "    </tr>\n",
       "  </thead>\n",
       "  <tbody>\n",
       "    <tr>\n",
       "      <th>0</th>\n",
       "      <td>Singapore</td>\n",
       "      <td>Thailand</td>\n",
       "      <td>Sea</td>\n",
       "      <td>273</td>\n",
       "    </tr>\n",
       "    <tr>\n",
       "      <th>1</th>\n",
       "      <td>Germany</td>\n",
       "      <td>China</td>\n",
       "      <td>Sea</td>\n",
       "      <td>233</td>\n",
       "    </tr>\n",
       "    <tr>\n",
       "      <th>2</th>\n",
       "      <td>China</td>\n",
       "      <td>Japan</td>\n",
       "      <td>Air</td>\n",
       "      <td>210</td>\n",
       "    </tr>\n",
       "    <tr>\n",
       "      <th>3</th>\n",
       "      <td>Japan</td>\n",
       "      <td>Mexico</td>\n",
       "      <td>Sea</td>\n",
       "      <td>206</td>\n",
       "    </tr>\n",
       "    <tr>\n",
       "      <th>4</th>\n",
       "      <td>Malaysia</td>\n",
       "      <td>Thailand</td>\n",
       "      <td>Rail</td>\n",
       "      <td>195</td>\n",
       "    </tr>\n",
       "    <tr>\n",
       "      <th>5</th>\n",
       "      <td>China</td>\n",
       "      <td>Thailand</td>\n",
       "      <td>Road</td>\n",
       "      <td>145</td>\n",
       "    </tr>\n",
       "    <tr>\n",
       "      <th>6</th>\n",
       "      <td>Spain</td>\n",
       "      <td>Germany</td>\n",
       "      <td>Road</td>\n",
       "      <td>142</td>\n",
       "    </tr>\n",
       "    <tr>\n",
       "      <th>7</th>\n",
       "      <td>China</td>\n",
       "      <td>United Arab Emirates</td>\n",
       "      <td>Sea</td>\n",
       "      <td>114</td>\n",
       "    </tr>\n",
       "    <tr>\n",
       "      <th>8</th>\n",
       "      <td>Brazil</td>\n",
       "      <td>China</td>\n",
       "      <td>Sea</td>\n",
       "      <td>113</td>\n",
       "    </tr>\n",
       "    <tr>\n",
       "      <th>9</th>\n",
       "      <td>USA</td>\n",
       "      <td>Thailand</td>\n",
       "      <td>Sea</td>\n",
       "      <td>109</td>\n",
       "    </tr>\n",
       "  </tbody>\n",
       "</table>\n",
       "</div>"
      ],
      "text/plain": [
       "      Origen               Destino Modo de Transporte  Flujo\n",
       "0  Singapore              Thailand                Sea    273\n",
       "1    Germany                 China                Sea    233\n",
       "2      China                 Japan                Air    210\n",
       "3      Japan                Mexico                Sea    206\n",
       "4   Malaysia              Thailand               Rail    195\n",
       "5      China              Thailand               Road    145\n",
       "6      Spain               Germany               Road    142\n",
       "7      China  United Arab Emirates                Sea    114\n",
       "8     Brazil                 China                Sea    113\n",
       "9        USA              Thailand                Sea    109"
      ]
     },
     "execution_count": 504,
     "metadata": {},
     "output_type": "execute_result"
    }
   ],
   "source": [
    "top_imp"
   ]
  },
  {
   "cell_type": "markdown",
   "id": "b77be404",
   "metadata": {},
   "source": [
    "Análisis de importaciones basado en el monto ingresado por cada ruta"
   ]
  },
  {
   "cell_type": "code",
   "execution_count": 307,
   "id": "3194a12b",
   "metadata": {},
   "outputs": [],
   "source": [
    "sum_imp = importaciones.sum()[\"total_value\"].sort_values(ascending=False).head(10)\n",
    "sum_imp = pd.DataFrame(sum_imp).reset_index().rename(columns={\"origin\":\"Origen\", \"destination\":\"Destino\", \"transport_mode\":\"Modo de Transporte\", \"total_value\":\"Ingresos ($)\"})"
   ]
  },
  {
   "cell_type": "code",
   "execution_count": 308,
   "id": "8e56f879",
   "metadata": {},
   "outputs": [
    {
     "data": {
      "text/html": [
       "<div>\n",
       "<style scoped>\n",
       "    .dataframe tbody tr th:only-of-type {\n",
       "        vertical-align: middle;\n",
       "    }\n",
       "\n",
       "    .dataframe tbody tr th {\n",
       "        vertical-align: top;\n",
       "    }\n",
       "\n",
       "    .dataframe thead th {\n",
       "        text-align: right;\n",
       "    }\n",
       "</style>\n",
       "<table border=\"1\" class=\"dataframe\">\n",
       "  <thead>\n",
       "    <tr style=\"text-align: right;\">\n",
       "      <th></th>\n",
       "      <th>Origen</th>\n",
       "      <th>Destino</th>\n",
       "      <th>Modo de Transporte</th>\n",
       "      <th>Ingresos ($)</th>\n",
       "    </tr>\n",
       "  </thead>\n",
       "  <tbody>\n",
       "    <tr>\n",
       "      <th>0</th>\n",
       "      <td>Singapore</td>\n",
       "      <td>Thailand</td>\n",
       "      <td>Sea</td>\n",
       "      <td>4017000000</td>\n",
       "    </tr>\n",
       "    <tr>\n",
       "      <th>1</th>\n",
       "      <td>Japan</td>\n",
       "      <td>Mexico</td>\n",
       "      <td>Sea</td>\n",
       "      <td>3918000000</td>\n",
       "    </tr>\n",
       "    <tr>\n",
       "      <th>2</th>\n",
       "      <td>Malaysia</td>\n",
       "      <td>Thailand</td>\n",
       "      <td>Rail</td>\n",
       "      <td>3482000000</td>\n",
       "    </tr>\n",
       "    <tr>\n",
       "      <th>3</th>\n",
       "      <td>China</td>\n",
       "      <td>United Arab Emirates</td>\n",
       "      <td>Sea</td>\n",
       "      <td>3357000000</td>\n",
       "    </tr>\n",
       "    <tr>\n",
       "      <th>4</th>\n",
       "      <td>China</td>\n",
       "      <td>Japan</td>\n",
       "      <td>Air</td>\n",
       "      <td>3237000000</td>\n",
       "    </tr>\n",
       "    <tr>\n",
       "      <th>5</th>\n",
       "      <td>China</td>\n",
       "      <td>Thailand</td>\n",
       "      <td>Road</td>\n",
       "      <td>2786000000</td>\n",
       "    </tr>\n",
       "    <tr>\n",
       "      <th>6</th>\n",
       "      <td>Japan</td>\n",
       "      <td>United Arab Emirates</td>\n",
       "      <td>Sea</td>\n",
       "      <td>2238000000</td>\n",
       "    </tr>\n",
       "    <tr>\n",
       "      <th>7</th>\n",
       "      <td>Mexico</td>\n",
       "      <td>USA</td>\n",
       "      <td>Rail</td>\n",
       "      <td>2060000000</td>\n",
       "    </tr>\n",
       "    <tr>\n",
       "      <th>8</th>\n",
       "      <td>Spain</td>\n",
       "      <td>Germany</td>\n",
       "      <td>Road</td>\n",
       "      <td>2044000000</td>\n",
       "    </tr>\n",
       "    <tr>\n",
       "      <th>9</th>\n",
       "      <td>Germany</td>\n",
       "      <td>Mexico</td>\n",
       "      <td>Sea</td>\n",
       "      <td>1804000000</td>\n",
       "    </tr>\n",
       "  </tbody>\n",
       "</table>\n",
       "</div>"
      ],
      "text/plain": [
       "      Origen               Destino Modo de Transporte  Ingresos ($)\n",
       "0  Singapore              Thailand                Sea    4017000000\n",
       "1      Japan                Mexico                Sea    3918000000\n",
       "2   Malaysia              Thailand               Rail    3482000000\n",
       "3      China  United Arab Emirates                Sea    3357000000\n",
       "4      China                 Japan                Air    3237000000\n",
       "5      China              Thailand               Road    2786000000\n",
       "6      Japan  United Arab Emirates                Sea    2238000000\n",
       "7     Mexico                   USA               Rail    2060000000\n",
       "8      Spain               Germany               Road    2044000000\n",
       "9    Germany                Mexico                Sea    1804000000"
      ]
     },
     "execution_count": 308,
     "metadata": {},
     "output_type": "execute_result"
    }
   ],
   "source": [
    "sum_imp"
   ]
  },
  {
   "cell_type": "markdown",
   "id": "29352ee3",
   "metadata": {},
   "source": [
    "### Conclusión:"
   ]
  },
  {
   "cell_type": "markdown",
   "id": "3ce9a155",
   "metadata": {},
   "source": [
    "Como podemos observar, se realizó el análisis de importaciones y exportaciones no sólo basado en el número de veces que se llevó a cabo cada ruta, si no también basados en los ingresos que se generaron.\n",
    "Lo que podemos observar es que las rutas no son las mismas en ambas situaciones, por lo tanto se recomienda enfocar esfuerzos en las rutas que más ingresos hayan tenido. \n",
    "El que una ruta se haya repetido más veces no significa que más ingresos haya generado, por lo que considero poner más enfasis en que esas rutas sigan generando igual o mayor cantidad de dinero. "
   ]
  },
  {
   "cell_type": "markdown",
   "id": "598dfc27",
   "metadata": {},
   "source": [
    "### Opción 2) Medio de Tranporte Utilizado"
   ]
  },
  {
   "cell_type": "markdown",
   "id": "c1a73ce7",
   "metadata": {},
   "source": [
    "Medios de transporte más utilizados para exportaciones"
   ]
  },
  {
   "cell_type": "code",
   "execution_count": 380,
   "id": "4925a2b2",
   "metadata": {},
   "outputs": [],
   "source": [
    "num_exp = exportaciones.transport_mode.value_counts()\n",
    "num_exp = pd.DataFrame(num_exp).reset_index().rename(columns={\"index\":\"Modo\", \"transport_mode\":\"# veces\"})[:3]"
   ]
  },
  {
   "cell_type": "code",
   "execution_count": 381,
   "id": "826afc02",
   "metadata": {},
   "outputs": [
    {
     "data": {
      "text/html": [
       "<div>\n",
       "<style scoped>\n",
       "    .dataframe tbody tr th:only-of-type {\n",
       "        vertical-align: middle;\n",
       "    }\n",
       "\n",
       "    .dataframe tbody tr th {\n",
       "        vertical-align: top;\n",
       "    }\n",
       "\n",
       "    .dataframe thead th {\n",
       "        text-align: right;\n",
       "    }\n",
       "</style>\n",
       "<table border=\"1\" class=\"dataframe\">\n",
       "  <thead>\n",
       "    <tr style=\"text-align: right;\">\n",
       "      <th></th>\n",
       "      <th>Modo</th>\n",
       "      <th># veces</th>\n",
       "    </tr>\n",
       "  </thead>\n",
       "  <tbody>\n",
       "    <tr>\n",
       "      <th>0</th>\n",
       "      <td>Sea</td>\n",
       "      <td>8434</td>\n",
       "    </tr>\n",
       "    <tr>\n",
       "      <th>1</th>\n",
       "      <td>Rail</td>\n",
       "      <td>2780</td>\n",
       "    </tr>\n",
       "    <tr>\n",
       "      <th>2</th>\n",
       "      <td>Road</td>\n",
       "      <td>2149</td>\n",
       "    </tr>\n",
       "  </tbody>\n",
       "</table>\n",
       "</div>"
      ],
      "text/plain": [
       "   Modo  # veces\n",
       "0   Sea     8434\n",
       "1  Rail     2780\n",
       "2  Road     2149"
      ]
     },
     "execution_count": 381,
     "metadata": {},
     "output_type": "execute_result"
    }
   ],
   "source": [
    "num_exp"
   ]
  },
  {
   "cell_type": "markdown",
   "id": "3d1dcddb",
   "metadata": {},
   "source": [
    "Medios de transporte con más ingresos para exportaciones"
   ]
  },
  {
   "cell_type": "code",
   "execution_count": 270,
   "id": "024d3da8",
   "metadata": {},
   "outputs": [],
   "source": [
    "sum_exp = pd.DataFrame()\n",
    "sum_exp[\"Modo de Transporte\"] = exportaciones[\"transport_mode\"]\n",
    "sum_exp[\"Ingresos ($)\"] = exportaciones[\"total_value\"]\n",
    "sum_exp = sum_exp.groupby(['Modo de Transporte']).sum()\n",
    "sum_exp = sum_exp[\"Ingresos ($)\"].sort_values(ascending=False).head(3)\n",
    "sum_exp = pd.DataFrame(sum_exp)"
   ]
  },
  {
   "cell_type": "code",
   "execution_count": 271,
   "id": "6a180be4",
   "metadata": {},
   "outputs": [
    {
     "data": {
      "text/html": [
       "<div>\n",
       "<style scoped>\n",
       "    .dataframe tbody tr th:only-of-type {\n",
       "        vertical-align: middle;\n",
       "    }\n",
       "\n",
       "    .dataframe tbody tr th {\n",
       "        vertical-align: top;\n",
       "    }\n",
       "\n",
       "    .dataframe thead th {\n",
       "        text-align: right;\n",
       "    }\n",
       "</style>\n",
       "<table border=\"1\" class=\"dataframe\">\n",
       "  <thead>\n",
       "    <tr style=\"text-align: right;\">\n",
       "      <th></th>\n",
       "      <th>Ingresos ($)</th>\n",
       "    </tr>\n",
       "    <tr>\n",
       "      <th>Modo de Transporte</th>\n",
       "      <th></th>\n",
       "    </tr>\n",
       "  </thead>\n",
       "  <tbody>\n",
       "    <tr>\n",
       "      <th>Sea</th>\n",
       "      <td>65592622000</td>\n",
       "    </tr>\n",
       "    <tr>\n",
       "      <th>Rail</th>\n",
       "      <td>34505043000</td>\n",
       "    </tr>\n",
       "    <tr>\n",
       "      <th>Air</th>\n",
       "      <td>32785147000</td>\n",
       "    </tr>\n",
       "  </tbody>\n",
       "</table>\n",
       "</div>"
      ],
      "text/plain": [
       "                    Ingresos ($)\n",
       "Modo de Transporte              \n",
       "Sea                  65592622000\n",
       "Rail                 34505043000\n",
       "Air                  32785147000"
      ]
     },
     "execution_count": 271,
     "metadata": {},
     "output_type": "execute_result"
    }
   ],
   "source": [
    "sum_exp"
   ]
  },
  {
   "cell_type": "markdown",
   "id": "d14813ba",
   "metadata": {},
   "source": [
    "Medios de transporte más utilizados para importaciones"
   ]
  },
  {
   "cell_type": "code",
   "execution_count": 430,
   "id": "2e1dbf76",
   "metadata": {},
   "outputs": [],
   "source": [
    "num_imp = importaciones.count().reset_index() \n",
    "num_imp = num_imp[\"transport_mode\"].value_counts()\n",
    "num_imp = pd.DataFrame(num_imp).rename(columns={\"transport_mode\":\"# Veces\"})[:3]"
   ]
  },
  {
   "cell_type": "code",
   "execution_count": 431,
   "id": "a93ecdac",
   "metadata": {},
   "outputs": [
    {
     "data": {
      "text/html": [
       "<div>\n",
       "<style scoped>\n",
       "    .dataframe tbody tr th:only-of-type {\n",
       "        vertical-align: middle;\n",
       "    }\n",
       "\n",
       "    .dataframe tbody tr th {\n",
       "        vertical-align: top;\n",
       "    }\n",
       "\n",
       "    .dataframe thead th {\n",
       "        text-align: right;\n",
       "    }\n",
       "</style>\n",
       "<table border=\"1\" class=\"dataframe\">\n",
       "  <thead>\n",
       "    <tr style=\"text-align: right;\">\n",
       "      <th></th>\n",
       "      <th># Veces</th>\n",
       "    </tr>\n",
       "  </thead>\n",
       "  <tbody>\n",
       "    <tr>\n",
       "      <th>Sea</th>\n",
       "      <td>35</td>\n",
       "    </tr>\n",
       "    <tr>\n",
       "      <th>Rail</th>\n",
       "      <td>7</td>\n",
       "    </tr>\n",
       "    <tr>\n",
       "      <th>Road</th>\n",
       "      <td>5</td>\n",
       "    </tr>\n",
       "  </tbody>\n",
       "</table>\n",
       "</div>"
      ],
      "text/plain": [
       "      # Veces\n",
       "Sea        35\n",
       "Rail        7\n",
       "Road        5"
      ]
     },
     "execution_count": 431,
     "metadata": {},
     "output_type": "execute_result"
    }
   ],
   "source": [
    "num_imp"
   ]
  },
  {
   "cell_type": "markdown",
   "id": "5b6cbaab",
   "metadata": {},
   "source": [
    "Medios de transporte con más ingresos para importaciones"
   ]
  },
  {
   "cell_type": "code",
   "execution_count": 559,
   "id": "4162ddc0",
   "metadata": {},
   "outputs": [],
   "source": [
    "importaciones = database[database[\"direction\"] == \"Imports\"]\n",
    "sum_imp = importaciones.groupby(\"transport_mode\")[\"total_value\"].sum().reset_index()\n",
    "sum_imp = sum_imp.sort_values(by='total_value', ascending=False)[:3]\n",
    "sum_imp = pd.DataFrame(sum_imp).rename(columns={\"transport_mode\":\"Modo\", \"total_value\":\"Ingreso($)\"})"
   ]
  },
  {
   "cell_type": "code",
   "execution_count": 560,
   "id": "0513d6ec",
   "metadata": {},
   "outputs": [
    {
     "data": {
      "text/html": [
       "<div>\n",
       "<style scoped>\n",
       "    .dataframe tbody tr th:only-of-type {\n",
       "        vertical-align: middle;\n",
       "    }\n",
       "\n",
       "    .dataframe tbody tr th {\n",
       "        vertical-align: top;\n",
       "    }\n",
       "\n",
       "    .dataframe thead th {\n",
       "        text-align: right;\n",
       "    }\n",
       "</style>\n",
       "<table border=\"1\" class=\"dataframe\">\n",
       "  <thead>\n",
       "    <tr style=\"text-align: right;\">\n",
       "      <th></th>\n",
       "      <th>Modo</th>\n",
       "      <th>Ingreso($)</th>\n",
       "    </tr>\n",
       "  </thead>\n",
       "  <tbody>\n",
       "    <tr>\n",
       "      <th>3</th>\n",
       "      <td>Sea</td>\n",
       "      <td>34938000000</td>\n",
       "    </tr>\n",
       "    <tr>\n",
       "      <th>1</th>\n",
       "      <td>Rail</td>\n",
       "      <td>9123000000</td>\n",
       "    </tr>\n",
       "    <tr>\n",
       "      <th>2</th>\n",
       "      <td>Road</td>\n",
       "      <td>5990000000</td>\n",
       "    </tr>\n",
       "  </tbody>\n",
       "</table>\n",
       "</div>"
      ],
      "text/plain": [
       "   Modo   Ingreso($)\n",
       "3   Sea  34938000000\n",
       "1  Rail   9123000000\n",
       "2  Road   5990000000"
      ]
     },
     "execution_count": 560,
     "metadata": {},
     "output_type": "execute_result"
    }
   ],
   "source": [
    "sum_imp"
   ]
  },
  {
   "cell_type": "markdown",
   "id": "3b73eb6b",
   "metadata": {},
   "source": [
    "### Conclusión:"
   ]
  },
  {
   "cell_type": "markdown",
   "id": "3d840f52",
   "metadata": {},
   "source": [
    "Como podemos observar en los datos arrojados luego del análisis, tanto en importaciones como en exportaciones el medio de transporte más utilizado es el mismo. Tanto en número de veces, como en ingresos, el medio marino es, por mucho el más utilizado y en el que se debería prestar más empeño y dedicación debido a loas buenos números que este arroja."
   ]
  },
  {
   "cell_type": "markdown",
   "id": "35d1fb86",
   "metadata": {},
   "source": [
    "### Opción 3) Valor Total de Importaciones y Exportaciones"
   ]
  },
  {
   "cell_type": "code",
   "execution_count": 564,
   "id": "cf4466a9",
   "metadata": {},
   "outputs": [],
   "source": []
  },
  {
   "cell_type": "code",
   "execution_count": null,
   "id": "fe53a1f6",
   "metadata": {},
   "outputs": [],
   "source": []
  }
 ],
 "metadata": {
  "kernelspec": {
   "display_name": "Python 3 (ipykernel)",
   "language": "python",
   "name": "python3"
  },
  "language_info": {
   "codemirror_mode": {
    "name": "ipython",
    "version": 3
   },
   "file_extension": ".py",
   "mimetype": "text/x-python",
   "name": "python",
   "nbconvert_exporter": "python",
   "pygments_lexer": "ipython3",
   "version": "3.9.7"
  }
 },
 "nbformat": 4,
 "nbformat_minor": 5
}
